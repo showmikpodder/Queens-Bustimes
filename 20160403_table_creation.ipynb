{
 "cells": [
  {
   "cell_type": "code",
   "execution_count": 1,
   "metadata": {
    "collapsed": true,
    "deletable": true,
    "editable": true
   },
   "outputs": [],
   "source": [
    "import sqlite3\n",
    "import unicodecsv"
   ]
  },
  {
   "cell_type": "code",
   "execution_count": 2,
   "metadata": {
    "collapsed": false,
    "deletable": true,
    "editable": true,
    "scrolled": true
   },
   "outputs": [
    {
     "name": "stderr",
     "output_type": "stream",
     "text": [
      "/opt/conda/lib/python2.7/site-packages/IPython/config.py:13: ShimWarning: The `IPython.config` package has been deprecated since IPython 4.0. You should import from traitlets.config instead.\n",
      "  \"You should import from traitlets.config instead.\", ShimWarning)\n",
      "/opt/conda/lib/python2.7/site-packages/IPython/utils/traitlets.py:5: UserWarning: IPython.utils.traitlets has moved to a top-level traitlets package.\n",
      "  warn(\"IPython.utils.traitlets has moved to a top-level traitlets package.\")\n"
     ]
    },
    {
     "data": {
      "text/plain": [
       "u'Connected: None@2016_bustimes.db'"
      ]
     },
     "execution_count": 2,
     "metadata": {},
     "output_type": "execute_result"
    }
   ],
   "source": [
    "%load_ext sql\n",
    "%sql sqlite:///2016_bustimes.db"
   ]
  },
  {
   "cell_type": "code",
   "execution_count": 3,
   "metadata": {
    "collapsed": false,
    "deletable": true,
    "editable": true
   },
   "outputs": [],
   "source": [
    "#connects overall database\n",
    "conn = sqlite3.connect('2016_bustimes.db')\n",
    "cur = conn.cursor()"
   ]
  },
  {
   "cell_type": "code",
   "execution_count": 8,
   "metadata": {
    "collapsed": false,
    "deletable": true,
    "editable": true
   },
   "outputs": [
    {
     "data": {
      "text/plain": [
       "<sqlite3.Cursor at 0x7f09ce2f0ce0>"
      ]
     },
     "execution_count": 8,
     "metadata": {},
     "output_type": "execute_result"
    }
   ],
   "source": [
    "#creates stop times table for 20160403\n",
    "cur.execute(\"CREATE TABLE Stop_Times_20160403(trip_id TEXT,arrival_time TEXT, departure_time TEXT, stop_id INT, stop_sequence INT, pickup_type INT, drop_off_type INT)\")"
   ]
  },
  {
   "cell_type": "code",
   "execution_count": 9,
   "metadata": {
    "collapsed": false,
    "deletable": true,
    "editable": true
   },
   "outputs": [
    {
     "name": "stdout",
     "output_type": "stream",
     "text": [
      "Done.\n"
     ]
    },
    {
     "data": {
      "text/html": [
       "<table>\n",
       "    <tr>\n",
       "        <th>trip_id</th>\n",
       "        <th>arrival_time</th>\n",
       "        <th>departure_time</th>\n",
       "        <th>stop_id</th>\n",
       "        <th>stop_sequence</th>\n",
       "        <th>pickup_type</th>\n",
       "        <th>drop_off_type</th>\n",
       "    </tr>\n",
       "</table>"
      ],
      "text/plain": [
       "[]"
      ]
     },
     "execution_count": 9,
     "metadata": {},
     "output_type": "execute_result"
    }
   ],
   "source": [
    "%%sql\n",
    "SELECT * FROM Stop_Times_20160403\n",
    "--#check on table headers"
   ]
  },
  {
   "cell_type": "code",
   "execution_count": 10,
   "metadata": {
    "collapsed": false,
    "deletable": true,
    "editable": true
   },
   "outputs": [
    {
     "data": {
      "text/plain": [
       "<sqlite3.Cursor at 0x7f09ce2f0ce0>"
      ]
     },
     "execution_count": 10,
     "metadata": {},
     "output_type": "execute_result"
    }
   ],
   "source": [
    "with open('stop_times20160403.txt', 'rb') as input_file:\n",
    "    reader = unicodecsv.reader(input_file, delimiter = ',')\n",
    "    data = [row for row in reader]\n",
    "cur.executemany(\"INSERT INTO Stop_Times_20160403 (trip_id, arrival_time, departure_time, stop_id, stop_sequence, pickup_type, drop_off_type) VALUES (?, ?, ?, ?, ?, ?, ?);\", data)\n",
    "#reading indata from text file into the stop times 20160403 table"
   ]
  },
  {
   "cell_type": "code",
   "execution_count": 11,
   "metadata": {
    "collapsed": true,
    "deletable": true,
    "editable": true
   },
   "outputs": [],
   "source": [
    "conn.commit()"
   ]
  },
  {
   "cell_type": "code",
   "execution_count": 12,
   "metadata": {
    "collapsed": false,
    "deletable": true,
    "editable": true
   },
   "outputs": [
    {
     "name": "stdout",
     "output_type": "stream",
     "text": [
      "Done.\n"
     ]
    },
    {
     "data": {
      "text/html": [
       "<table>\n",
       "    <tr>\n",
       "        <th>trip_id</th>\n",
       "        <th>arrival_time</th>\n",
       "        <th>departure_time</th>\n",
       "        <th>stop_id</th>\n",
       "        <th>stop_sequence</th>\n",
       "        <th>pickup_type</th>\n",
       "        <th>drop_off_type</th>\n",
       "    </tr>\n",
       "    <tr>\n",
       "        <td>trip_id</td>\n",
       "        <td>arrival_time</td>\n",
       "        <td>departure_time</td>\n",
       "        <td>stop_id</td>\n",
       "        <td>stop_sequence</td>\n",
       "        <td>pickup_type</td>\n",
       "        <td>drop_off_type</td>\n",
       "    </tr>\n",
       "    <tr>\n",
       "        <td>11760139-BPPB6-BP_B6-Weekday-10</td>\n",
       "        <td>00:00:00</td>\n",
       "        <td>00:00:00</td>\n",
       "        <td>551840</td>\n",
       "        <td>1</td>\n",
       "        <td>0</td>\n",
       "        <td>0</td>\n",
       "    </tr>\n",
       "    <tr>\n",
       "        <td>11760139-BPPB6-BP_B6-Weekday-10</td>\n",
       "        <td>00:00:58</td>\n",
       "        <td>00:00:58</td>\n",
       "        <td>551841</td>\n",
       "        <td>2</td>\n",
       "        <td>0</td>\n",
       "        <td>0</td>\n",
       "    </tr>\n",
       "    <tr>\n",
       "        <td>11760139-BPPB6-BP_B6-Weekday-10</td>\n",
       "        <td>00:02:00</td>\n",
       "        <td>00:02:00</td>\n",
       "        <td>551843</td>\n",
       "        <td>3</td>\n",
       "        <td>0</td>\n",
       "        <td>0</td>\n",
       "    </tr>\n",
       "    <tr>\n",
       "        <td>11760139-BPPB6-BP_B6-Weekday-10</td>\n",
       "        <td>00:02:24</td>\n",
       "        <td>00:02:24</td>\n",
       "        <td>551844</td>\n",
       "        <td>4</td>\n",
       "        <td>0</td>\n",
       "        <td>0</td>\n",
       "    </tr>\n",
       "</table>"
      ],
      "text/plain": [
       "[(u'trip_id', u'arrival_time', u'departure_time', u'stop_id', u'stop_sequence', u'pickup_type', u'drop_off_type'),\n",
       " (u'11760139-BPPB6-BP_B6-Weekday-10', u'00:00:00', u'00:00:00', 551840, 1, 0, 0),\n",
       " (u'11760139-BPPB6-BP_B6-Weekday-10', u'00:00:58', u'00:00:58', 551841, 2, 0, 0),\n",
       " (u'11760139-BPPB6-BP_B6-Weekday-10', u'00:02:00', u'00:02:00', 551843, 3, 0, 0),\n",
       " (u'11760139-BPPB6-BP_B6-Weekday-10', u'00:02:24', u'00:02:24', 551844, 4, 0, 0)]"
      ]
     },
     "execution_count": 12,
     "metadata": {},
     "output_type": "execute_result"
    }
   ],
   "source": [
    "%%sql\n",
    "SELECT * FROM Stop_Times_20160403\n",
    "LIMIT 5\n",
    "--#check on table "
   ]
  },
  {
   "cell_type": "code",
   "execution_count": 13,
   "metadata": {
    "collapsed": false,
    "deletable": true,
    "editable": true
   },
   "outputs": [
    {
     "data": {
      "text/plain": [
       "<sqlite3.Cursor at 0x7f09ce2f0ce0>"
      ]
     },
     "execution_count": 13,
     "metadata": {},
     "output_type": "execute_result"
    }
   ],
   "source": [
    "#creates routes table for 20160403\n",
    "cur.execute(\"CREATE TABLE Routes_20160403(route_id TEXT, agency_id TEXT, route_short_name TEXT, route_long_name TEXT, route_desc TEXT, route_type INT, route_url TEXT, route_color TEXT, route_text_color TEXT)\")"
   ]
  },
  {
   "cell_type": "code",
   "execution_count": 14,
   "metadata": {
    "collapsed": true,
    "deletable": true,
    "editable": true
   },
   "outputs": [],
   "source": [
    "with open('routes20160403.txt', 'rb') as input_file:\n",
    "    reader = unicodecsv.reader(input_file, delimiter = ',')\n",
    "    data = [row for row in reader]\n",
    "cur.executemany(\"INSERT INTO Routes_20160403 (route_id, agency_id, route_short_name, route_long_name, route_desc, route_type, route_url, route_color, route_text_color) VALUES (?, ?, ?, ?, ?, ?, ?, ?, ?);\", data)\n",
    "conn.commit()\n",
    "#reading indata from text file into the routes 20160403 table"
   ]
  },
  {
   "cell_type": "code",
   "execution_count": 15,
   "metadata": {
    "collapsed": false,
    "deletable": true,
    "editable": true
   },
   "outputs": [
    {
     "name": "stdout",
     "output_type": "stream",
     "text": [
      "Done.\n"
     ]
    },
    {
     "data": {
      "text/html": [
       "<table>\n",
       "    <tr>\n",
       "        <th>route_id</th>\n",
       "        <th>agency_id</th>\n",
       "        <th>route_short_name</th>\n",
       "        <th>route_long_name</th>\n",
       "        <th>route_desc</th>\n",
       "        <th>route_type</th>\n",
       "        <th>route_url</th>\n",
       "        <th>route_color</th>\n",
       "        <th>route_text_color</th>\n",
       "    </tr>\n",
       "    <tr>\n",
       "        <td>route_id</td>\n",
       "        <td>agency_id</td>\n",
       "        <td>route_short_name</td>\n",
       "        <td>route_long_name</td>\n",
       "        <td>route_desc</td>\n",
       "        <td>route_type</td>\n",
       "        <td>route_url</td>\n",
       "        <td>route_color</td>\n",
       "        <td>route_text_color</td>\n",
       "    </tr>\n",
       "    <tr>\n",
       "        <td>Q06</td>\n",
       "        <td>MTABC</td>\n",
       "        <td>Q6</td>\n",
       "        <td>Sutphin Boulevard</td>\n",
       "        <td>Via Sutphin Blvd / Rockaway Blvd</td>\n",
       "        <td>3</td>\n",
       "        <td>http://web.mta.info/busco/schedules/q006cur.pdf</td>\n",
       "        <td>B933AD</td>\n",
       "        <td>FFFFFF</td>\n",
       "    </tr>\n",
       "    <tr>\n",
       "        <td>Q07</td>\n",
       "        <td>MTABC</td>\n",
       "        <td>Q7</td>\n",
       "        <td>Rockaway Boulevard</td>\n",
       "        <td>Via Rockaway Blvd</td>\n",
       "        <td>3</td>\n",
       "        <td>http://web.mta.info/busco/schedules/q007cur.pdf</td>\n",
       "        <td>6CBE45</td>\n",
       "        <td>FFFFFF</td>\n",
       "    </tr>\n",
       "    <tr>\n",
       "        <td>Q08</td>\n",
       "        <td>MTABC</td>\n",
       "        <td>Q8</td>\n",
       "        <td>101St Avenue</td>\n",
       "        <td>Via 101St Av</td>\n",
       "        <td>3</td>\n",
       "        <td>http://web.mta.info/busco/schedules/q008cur.pdf</td>\n",
       "        <td>B933AD</td>\n",
       "        <td>FFFFFF</td>\n",
       "    </tr>\n",
       "    <tr>\n",
       "        <td>Q09</td>\n",
       "        <td>MTABC</td>\n",
       "        <td>Q9</td>\n",
       "        <td>Lincoln Street</td>\n",
       "        <td>Via Van Wyck Expwy / 135Th St / Lincoln St</td>\n",
       "        <td>3</td>\n",
       "        <td>http://web.mta.info/busco/schedules/q009cur.pdf</td>\n",
       "        <td>B933AD</td>\n",
       "        <td>FFFFFF</td>\n",
       "    </tr>\n",
       "</table>"
      ],
      "text/plain": [
       "[(u'route_id', u'agency_id', u'route_short_name', u'route_long_name', u'route_desc', u'route_type', u'route_url', u'route_color', u'route_text_color'),\n",
       " (u'Q06', u'MTABC', u'Q6', u'Sutphin Boulevard', u'Via Sutphin Blvd / Rockaway Blvd', 3, u'http://web.mta.info/busco/schedules/q006cur.pdf', u'B933AD', u'FFFFFF'),\n",
       " (u'Q07', u'MTABC', u'Q7', u'Rockaway Boulevard', u'Via Rockaway Blvd', 3, u'http://web.mta.info/busco/schedules/q007cur.pdf', u'6CBE45', u'FFFFFF'),\n",
       " (u'Q08', u'MTABC', u'Q8', u'101St Avenue', u'Via 101St Av', 3, u'http://web.mta.info/busco/schedules/q008cur.pdf', u'B933AD', u'FFFFFF'),\n",
       " (u'Q09', u'MTABC', u'Q9', u'Lincoln Street', u'Via Van Wyck Expwy / 135Th St / Lincoln St', 3, u'http://web.mta.info/busco/schedules/q009cur.pdf', u'B933AD', u'FFFFFF')]"
      ]
     },
     "execution_count": 15,
     "metadata": {},
     "output_type": "execute_result"
    }
   ],
   "source": [
    "%%sql\n",
    "SELECT * FROM Routes_20160403\n",
    "LIMIT 5\n",
    "--#check on table "
   ]
  },
  {
   "cell_type": "code",
   "execution_count": 16,
   "metadata": {
    "collapsed": false,
    "deletable": true,
    "editable": true
   },
   "outputs": [
    {
     "data": {
      "text/plain": [
       "<sqlite3.Cursor at 0x7f09ce2f0ce0>"
      ]
     },
     "execution_count": 16,
     "metadata": {},
     "output_type": "execute_result"
    }
   ],
   "source": [
    "#creates stops table for 20160403\n",
    "cur.execute(\"CREATE TABLE Stops_20160403(stop_id INT, stop_name TEXT, stop_desc TEXT, stop_lat INT, stop_lon INT)\")"
   ]
  },
  {
   "cell_type": "code",
   "execution_count": 17,
   "metadata": {
    "collapsed": true,
    "deletable": true,
    "editable": true
   },
   "outputs": [],
   "source": [
    "with open('stops20160403.txt', 'rb') as input_file:\n",
    "    reader = unicodecsv.reader(input_file, delimiter = ',')\n",
    "    data = [row for row in reader]\n",
    "cur.executemany(\"INSERT INTO Stops_20160403 (stop_id, stop_name, stop_desc, stop_lat, stop_lon) VALUES (?, ?, ?, ?, ?);\", data)\n",
    "conn.commit()\n",
    "#reading indata from text file into the stops 20160403 table"
   ]
  },
  {
   "cell_type": "code",
   "execution_count": 18,
   "metadata": {
    "collapsed": false,
    "deletable": true,
    "editable": true
   },
   "outputs": [
    {
     "name": "stdout",
     "output_type": "stream",
     "text": [
      "Done.\n"
     ]
    },
    {
     "data": {
      "text/html": [
       "<table>\n",
       "    <tr>\n",
       "        <th>stop_id</th>\n",
       "        <th>stop_name</th>\n",
       "        <th>stop_desc</th>\n",
       "        <th>stop_lat</th>\n",
       "        <th>stop_lon</th>\n",
       "    </tr>\n",
       "    <tr>\n",
       "        <td>stop_id</td>\n",
       "        <td>stop_name</td>\n",
       "        <td>stop_desc</td>\n",
       "        <td>stop_lat</td>\n",
       "        <td>stop_lon</td>\n",
       "    </tr>\n",
       "    <tr>\n",
       "        <td>100025</td>\n",
       "        <td>GRAND CONCOURSE/E 161 ST</td>\n",
       "        <td>GRAND CONCOURSE &amp; E 161 ST</td>\n",
       "        <td>40.826617</td>\n",
       "        <td>-73.922643</td>\n",
       "    </tr>\n",
       "    <tr>\n",
       "        <td>100027</td>\n",
       "        <td>GRAND CONCOURSE/E 165 ST</td>\n",
       "        <td>GRAND CONCOURSE &amp; E 165 ST</td>\n",
       "        <td>40.83132</td>\n",
       "        <td>-73.91994</td>\n",
       "    </tr>\n",
       "    <tr>\n",
       "        <td>100039</td>\n",
       "        <td>GRAND CONCOURSE/E BURNSIDE AV</td>\n",
       "        <td>GRAND CONCOURSE &amp; E BURNSIDE AV</td>\n",
       "        <td>40.852124</td>\n",
       "        <td>-73.90358</td>\n",
       "    </tr>\n",
       "    <tr>\n",
       "        <td>100045</td>\n",
       "        <td>GRAND CONCOURSE/E FORDHAM RD</td>\n",
       "        <td>GRAND CONCOURSE &amp; E FORDHAM RD</td>\n",
       "        <td>40.862958</td>\n",
       "        <td>-73.896434</td>\n",
       "    </tr>\n",
       "</table>"
      ],
      "text/plain": [
       "[(u'stop_id', u'stop_name', u'stop_desc', u'stop_lat', u'stop_lon'),\n",
       " (100025, u'GRAND CONCOURSE/E 161 ST', u'GRAND CONCOURSE & E 161 ST', 40.826617, -73.922643),\n",
       " (100027, u'GRAND CONCOURSE/E 165 ST', u'GRAND CONCOURSE & E 165 ST', 40.83132, -73.91994),\n",
       " (100039, u'GRAND CONCOURSE/E BURNSIDE AV', u'GRAND CONCOURSE & E BURNSIDE AV', 40.852124, -73.90358),\n",
       " (100045, u'GRAND CONCOURSE/E FORDHAM RD', u'GRAND CONCOURSE & E FORDHAM RD', 40.862958, -73.896434)]"
      ]
     },
     "execution_count": 18,
     "metadata": {},
     "output_type": "execute_result"
    }
   ],
   "source": [
    "%%sql\n",
    "SELECT * FROM Stops_20160403\n",
    "LIMIT 5\n",
    "--#check on table "
   ]
  },
  {
   "cell_type": "code",
   "execution_count": 19,
   "metadata": {
    "collapsed": false,
    "deletable": true,
    "editable": true
   },
   "outputs": [
    {
     "data": {
      "text/plain": [
       "<sqlite3.Cursor at 0x7f09ce2f0ce0>"
      ]
     },
     "execution_count": 19,
     "metadata": {},
     "output_type": "execute_result"
    }
   ],
   "source": [
    "#creates trips table for 20160403\n",
    "cur.execute(\"CREATE TABLE Trips_20160403(route_id TEXT, service_id TEXT, trip_id TEXT, trip_headsign TEXT, direction_id INT, block_id INT, shape_id TEXT)\")"
   ]
  },
  {
   "cell_type": "code",
   "execution_count": 20,
   "metadata": {
    "collapsed": false,
    "deletable": true,
    "editable": true
   },
   "outputs": [],
   "source": [
    "with open('trips20160403.txt', 'rb') as input_file:\n",
    "    reader = unicodecsv.reader(input_file, delimiter = ',')\n",
    "    data = [row for row in reader]\n",
    "cur.executemany(\"INSERT INTO Trips_20160403 (route_id, service_id, trip_id, trip_headsign, direction_id, block_id, shape_id) VALUES (?, ?, ?, ?, ?, ?, ?);\", data)\n",
    "conn.commit()\n",
    "#reading indata from text file into the trips 201620160103 table"
   ]
  },
  {
   "cell_type": "code",
   "execution_count": 21,
   "metadata": {
    "collapsed": false,
    "deletable": true,
    "editable": true
   },
   "outputs": [
    {
     "name": "stdout",
     "output_type": "stream",
     "text": [
      "Done.\n"
     ]
    },
    {
     "data": {
      "text/html": [
       "<table>\n",
       "    <tr>\n",
       "        <th>route_id</th>\n",
       "        <th>service_id</th>\n",
       "        <th>trip_id</th>\n",
       "        <th>trip_headsign</th>\n",
       "        <th>direction_id</th>\n",
       "        <th>block_id</th>\n",
       "        <th>shape_id</th>\n",
       "    </tr>\n",
       "    <tr>\n",
       "        <td>route_id</td>\n",
       "        <td>service_id</td>\n",
       "        <td>trip_id</td>\n",
       "        <td>trip_headsign</td>\n",
       "        <td>direction_id</td>\n",
       "        <td>block_id</td>\n",
       "        <td>shape_id</td>\n",
       "    </tr>\n",
       "    <tr>\n",
       "        <td>Q64</td>\n",
       "        <td>BPPB6-BP_B6-Weekday-10</td>\n",
       "        <td>11760139-BPPB6-BP_B6-Weekday-10</td>\n",
       "        <td>FOREST HILLS 71 AV STA via JEWEL AV via 69 RD</td>\n",
       "        <td>1</td>\n",
       "        <td>2300835</td>\n",
       "        <td>Q640053</td>\n",
       "    </tr>\n",
       "    <tr>\n",
       "        <td>Q64</td>\n",
       "        <td>BPPB6-BP_B6-Weekday-10</td>\n",
       "        <td>11760140-BPPB6-BP_B6-Weekday-10</td>\n",
       "        <td>ELECTCHESTER 164 ST via JEWEL AV</td>\n",
       "        <td>0</td>\n",
       "        <td>2300835</td>\n",
       "        <td>Q640070</td>\n",
       "    </tr>\n",
       "    <tr>\n",
       "        <td>Q64</td>\n",
       "        <td>BPPB6-BP_B6-Weekday-10</td>\n",
       "        <td>11760141-BPPB6-BP_B6-Weekday-10</td>\n",
       "        <td>FOREST HILLS 71 AV STA via JEWEL AV via 69 RD</td>\n",
       "        <td>1</td>\n",
       "        <td>2300835</td>\n",
       "        <td>Q640053</td>\n",
       "    </tr>\n",
       "    <tr>\n",
       "        <td>Q64</td>\n",
       "        <td>BPPB6-BP_B6-Weekday-10</td>\n",
       "        <td>11760142-BPPB6-BP_B6-Weekday-10</td>\n",
       "        <td>ELECTCHESTER 164 ST via JEWEL AV</td>\n",
       "        <td>0</td>\n",
       "        <td>2300835</td>\n",
       "        <td>Q640070</td>\n",
       "    </tr>\n",
       "</table>"
      ],
      "text/plain": [
       "[(u'route_id', u'service_id', u'trip_id', u'trip_headsign', u'direction_id', u'block_id', u'shape_id'),\n",
       " (u'Q64', u'BPPB6-BP_B6-Weekday-10', u'11760139-BPPB6-BP_B6-Weekday-10', u'FOREST HILLS 71 AV STA via JEWEL AV via 69 RD', 1, 2300835, u'Q640053'),\n",
       " (u'Q64', u'BPPB6-BP_B6-Weekday-10', u'11760140-BPPB6-BP_B6-Weekday-10', u'ELECTCHESTER 164 ST via JEWEL AV', 0, 2300835, u'Q640070'),\n",
       " (u'Q64', u'BPPB6-BP_B6-Weekday-10', u'11760141-BPPB6-BP_B6-Weekday-10', u'FOREST HILLS 71 AV STA via JEWEL AV via 69 RD', 1, 2300835, u'Q640053'),\n",
       " (u'Q64', u'BPPB6-BP_B6-Weekday-10', u'11760142-BPPB6-BP_B6-Weekday-10', u'ELECTCHESTER 164 ST via JEWEL AV', 0, 2300835, u'Q640070')]"
      ]
     },
     "execution_count": 21,
     "metadata": {},
     "output_type": "execute_result"
    }
   ],
   "source": [
    "%%sql\n",
    "SELECT * FROM Trips_20160403\n",
    "LIMIT 5"
   ]
  },
  {
   "cell_type": "code",
   "execution_count": 22,
   "metadata": {
    "collapsed": false,
    "deletable": true,
    "editable": true,
    "scrolled": true
   },
   "outputs": [
    {
     "name": "stdout",
     "output_type": "stream",
     "text": [
      "Done.\n"
     ]
    },
    {
     "data": {
      "text/html": [
       "<table>\n",
       "    <tr>\n",
       "        <th>type</th>\n",
       "        <th>name</th>\n",
       "        <th>tbl_name</th>\n",
       "        <th>rootpage</th>\n",
       "        <th>sql</th>\n",
       "    </tr>\n",
       "    <tr>\n",
       "        <td>table</td>\n",
       "        <td>Stop_Times_20160103</td>\n",
       "        <td>Stop_Times_20160103</td>\n",
       "        <td>2</td>\n",
       "        <td>CREATE TABLE \"Stop_Times_20160103\"(trip_id TEXT,arrival_time TEXT, departure_time TEXT, stop_id INT, stop_sequence INT, pickup_type INT, drop_off_type INT)</td>\n",
       "    </tr>\n",
       "    <tr>\n",
       "        <td>table</td>\n",
       "        <td>Routes_20160103</td>\n",
       "        <td>Routes_20160103</td>\n",
       "        <td>24035</td>\n",
       "        <td>CREATE TABLE \"Routes_20160103\"(route_id TEXT, agency_id TEXT, route_short_name TEXT, route_long_name TEXT, route_desc TEXT, route_type INT, route_url TEXT, route_color TEXT, route_text_color TEXT)</td>\n",
       "    </tr>\n",
       "    <tr>\n",
       "        <td>table</td>\n",
       "        <td>Stops_20160103</td>\n",
       "        <td>Stops_20160103</td>\n",
       "        <td>24039</td>\n",
       "        <td>CREATE TABLE \"Stops_20160103\"(stop_id INT, stop_name TEXT, stop_desc TEXT, stop_lat INT, stop_lon INT)</td>\n",
       "    </tr>\n",
       "    <tr>\n",
       "        <td>table</td>\n",
       "        <td>Trips_20160103</td>\n",
       "        <td>Trips_20160103</td>\n",
       "        <td>24101</td>\n",
       "        <td>CREATE TABLE \"Trips_20160103\"(route_id TEXT, service_id TEXT, trip_id TEXT, trip_headsign TEXT, direction_id INT, block_id INT, shape_id TEXT)</td>\n",
       "    </tr>\n",
       "    <tr>\n",
       "        <td>table</td>\n",
       "        <td>Stop_Times_20160403</td>\n",
       "        <td>Stop_Times_20160403</td>\n",
       "        <td>25418</td>\n",
       "        <td>CREATE TABLE Stop_Times_20160403(trip_id TEXT,arrival_time TEXT, departure_time TEXT, stop_id INT, stop_sequence INT, pickup_type INT, drop_off_type INT)</td>\n",
       "    </tr>\n",
       "    <tr>\n",
       "        <td>table</td>\n",
       "        <td>Routes_20160403</td>\n",
       "        <td>Routes_20160403</td>\n",
       "        <td>44064</td>\n",
       "        <td>CREATE TABLE Routes_20160403(route_id TEXT, agency_id TEXT, route_short_name TEXT, route_long_name TEXT, route_desc TEXT, route_type INT, route_url TEXT, route_color TEXT, route_text_color TEXT)</td>\n",
       "    </tr>\n",
       "    <tr>\n",
       "        <td>table</td>\n",
       "        <td>Stops_20160403</td>\n",
       "        <td>Stops_20160403</td>\n",
       "        <td>44068</td>\n",
       "        <td>CREATE TABLE Stops_20160403(stop_id INT, stop_name TEXT, stop_desc TEXT, stop_lat INT, stop_lon INT)</td>\n",
       "    </tr>\n",
       "    <tr>\n",
       "        <td>table</td>\n",
       "        <td>Trips_20160403</td>\n",
       "        <td>Trips_20160403</td>\n",
       "        <td>44130</td>\n",
       "        <td>CREATE TABLE Trips_20160403(route_id TEXT, service_id TEXT, trip_id TEXT, trip_headsign TEXT, direction_id INT, block_id INT, shape_id TEXT)</td>\n",
       "    </tr>\n",
       "</table>"
      ],
      "text/plain": [
       "[(u'table', u'Stop_Times_20160103', u'Stop_Times_20160103', 2, u'CREATE TABLE \"Stop_Times_20160103\"(trip_id TEXT,arrival_time TEXT, departure_time TEXT, stop_id INT, stop_sequence INT, pickup_type INT, drop_off_type INT)'),\n",
       " (u'table', u'Routes_20160103', u'Routes_20160103', 24035, u'CREATE TABLE \"Routes_20160103\"(route_id TEXT, agency_id TEXT, route_short_name TEXT, route_long_name TEXT, route_desc TEXT, route_type INT, route_url TEXT, route_color TEXT, route_text_color TEXT)'),\n",
       " (u'table', u'Stops_20160103', u'Stops_20160103', 24039, u'CREATE TABLE \"Stops_20160103\"(stop_id INT, stop_name TEXT, stop_desc TEXT, stop_lat INT, stop_lon INT)'),\n",
       " (u'table', u'Trips_20160103', u'Trips_20160103', 24101, u'CREATE TABLE \"Trips_20160103\"(route_id TEXT, service_id TEXT, trip_id TEXT, trip_headsign TEXT, direction_id INT, block_id INT, shape_id TEXT)'),\n",
       " (u'table', u'Stop_Times_20160403', u'Stop_Times_20160403', 25418, u'CREATE TABLE Stop_Times_20160403(trip_id TEXT,arrival_time TEXT, departure_time TEXT, stop_id INT, stop_sequence INT, pickup_type INT, drop_off_type INT)'),\n",
       " (u'table', u'Routes_20160403', u'Routes_20160403', 44064, u'CREATE TABLE Routes_20160403(route_id TEXT, agency_id TEXT, route_short_name TEXT, route_long_name TEXT, route_desc TEXT, route_type INT, route_url TEXT, route_color TEXT, route_text_color TEXT)'),\n",
       " (u'table', u'Stops_20160403', u'Stops_20160403', 44068, u'CREATE TABLE Stops_20160403(stop_id INT, stop_name TEXT, stop_desc TEXT, stop_lat INT, stop_lon INT)'),\n",
       " (u'table', u'Trips_20160403', u'Trips_20160403', 44130, u'CREATE TABLE Trips_20160403(route_id TEXT, service_id TEXT, trip_id TEXT, trip_headsign TEXT, direction_id INT, block_id INT, shape_id TEXT)')]"
      ]
     },
     "execution_count": 22,
     "metadata": {},
     "output_type": "execute_result"
    }
   ],
   "source": [
    "%%sql\n",
    "SELECT * FROM sqlite_master"
   ]
  },
  {
   "cell_type": "code",
   "execution_count": null,
   "metadata": {
    "collapsed": true
   },
   "outputs": [],
   "source": []
  }
 ],
 "metadata": {
  "kernelspec": {
   "display_name": "Python 2",
   "language": "python",
   "name": "python2"
  },
  "language_info": {
   "codemirror_mode": {
    "name": "ipython",
    "version": 2
   },
   "file_extension": ".py",
   "mimetype": "text/x-python",
   "name": "python",
   "nbconvert_exporter": "python",
   "pygments_lexer": "ipython2",
   "version": "2.7.13"
  }
 },
 "nbformat": 4,
 "nbformat_minor": 2
}
